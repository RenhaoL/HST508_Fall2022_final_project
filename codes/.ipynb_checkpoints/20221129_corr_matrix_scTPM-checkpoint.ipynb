{
 "cells": [
  {
   "cell_type": "code",
   "execution_count": null,
   "id": "c3f09480",
   "metadata": {},
   "outputs": [],
   "source": [
    "#len(set(sc_df.index).intersection(gloc.index)) #24826 - 54 = 24772 # before filtering out chromosomes\n",
    "#len(set(sc_df_filtered.index).intersection(gloc.index)) # 24083 - 38 = 24045\n",
    "##set(sc_df_filtered.index) - set(gloc.index)\n",
    "##set(sc_df.index) - set(gloc.index)"
   ]
  },
  {
   "cell_type": "code",
   "execution_count": 1,
   "id": "8b300ed7",
   "metadata": {},
   "outputs": [],
   "source": [
    "import numpy as np\n",
    "import pandas as pd\n",
    "import matplotlib.pyplot as plt\n",
    "import seaborn as sns\n",
    "from scipy.stats import zscore"
   ]
  },
  {
   "cell_type": "code",
   "execution_count": 3,
   "id": "7f64d4af",
   "metadata": {},
   "outputs": [],
   "source": [
    "excl_chrom = ['chrM','chrX','chrY']\n",
    "# read in single cell TPM counts\n",
    "sc_df = pd.read_csv(\"../data/single_cell_tpm.tsv\",sep=\"\\t\",index_col=0)\n",
    "# filter out genes with 0 TPM in all cells\n",
    "sc_df_filtered = sc_df.loc[np.sum(sc_df,axis=1)!=0] # -743\n",
    "# read in gene location information\n",
    "gloc = pd.read_csv(\"../data/gene_locations.tsv\",sep=\"\\t\",index_col=0)\n",
    "gloc_filtered = gloc[gloc['seqname'].isin(set(gloc.seqname).difference(excl_chrom))]\n",
    "# read in TAD location information\n",
    "tad_locs = pd.read_csv(\"../data/TAD_strong_boundary_start_end.csv\")\n",
    "\n",
    "# get intersecting genes\n",
    "gene_list = set(sc_df_filtered.index).intersection(gloc_filtered.index)\n",
    "sc_df_filtered = sc_df_filtered.loc[gene_list]\n",
    "gloc_filtered = gloc_filtered.loc[gene_list]"
   ]
  },
  {
   "cell_type": "code",
   "execution_count": null,
   "id": "0af8d016",
   "metadata": {},
   "outputs": [],
   "source": [
    "gloc_filtered"
   ]
  },
  {
   "cell_type": "code",
   "execution_count": null,
   "id": "ab76faef",
   "metadata": {},
   "outputs": [],
   "source": [
    "\n",
    "tad_locs"
   ]
  },
  {
   "cell_type": "code",
   "execution_count": null,
   "id": "1df489c3",
   "metadata": {},
   "outputs": [],
   "source": [
    "sc_df_filtered.loc[gloc_filtered[gloc_filtered['seqname']=='chr1'].index]"
   ]
  },
  {
   "cell_type": "code",
   "execution_count": null,
   "id": "37e1738c",
   "metadata": {},
   "outputs": [],
   "source": [
    "sc_df_filtered.loc[gloc[gloc['seqname']=='chr1'].index]"
   ]
  },
  {
   "cell_type": "code",
   "execution_count": null,
   "id": "104e08ef",
   "metadata": {},
   "outputs": [],
   "source": [
    "zscore(np.log2(sc_df_filtered+1),axis=1)"
   ]
  },
  {
   "cell_type": "code",
   "execution_count": null,
   "id": "e04ec784",
   "metadata": {},
   "outputs": [],
   "source": [
    "excl_chrom = ['chrM','chrX','chrY']\n",
    "tad_locs[tad_locs['chrom'].isin(set(gloc.seqname).difference(excl_chrom))]"
   ]
  }
 ],
 "metadata": {
  "kernelspec": {
   "display_name": "Python 3 (ipykernel)",
   "language": "python",
   "name": "python3"
  },
  "language_info": {
   "codemirror_mode": {
    "name": "ipython",
    "version": 3
   },
   "file_extension": ".py",
   "mimetype": "text/x-python",
   "name": "python",
   "nbconvert_exporter": "python",
   "pygments_lexer": "ipython3",
   "version": "3.9.12"
  }
 },
 "nbformat": 4,
 "nbformat_minor": 5
}
