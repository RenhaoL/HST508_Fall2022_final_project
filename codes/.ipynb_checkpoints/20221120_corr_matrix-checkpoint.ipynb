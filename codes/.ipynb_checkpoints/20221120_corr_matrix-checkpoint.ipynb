{
 "cells": [
  {
   "cell_type": "code",
   "execution_count": 6,
   "id": "3318bd55",
   "metadata": {},
   "outputs": [],
   "source": [
    "import scanpy as sc\n",
    "import numpy as np\n",
    "import pandas as pd\n",
    "import matplotlib.pyplot as plt\n",
    "import seaborn as sns"
   ]
  },
  {
   "cell_type": "code",
   "execution_count": 7,
   "id": "816c4700",
   "metadata": {},
   "outputs": [
    {
     "data": {
      "text/html": [
       "<div>\n",
       "<style scoped>\n",
       "    .dataframe tbody tr th:only-of-type {\n",
       "        vertical-align: middle;\n",
       "    }\n",
       "\n",
       "    .dataframe tbody tr th {\n",
       "        vertical-align: top;\n",
       "    }\n",
       "\n",
       "    .dataframe thead th {\n",
       "        text-align: right;\n",
       "    }\n",
       "</style>\n",
       "<table border=\"1\" class=\"dataframe\">\n",
       "  <thead>\n",
       "    <tr style=\"text-align: right;\">\n",
       "      <th></th>\n",
       "      <th>seqname</th>\n",
       "      <th>start</th>\n",
       "      <th>end</th>\n",
       "      <th>gene_name</th>\n",
       "    </tr>\n",
       "  </thead>\n",
       "  <tbody>\n",
       "    <tr>\n",
       "      <th>0</th>\n",
       "      <td>chr1</td>\n",
       "      <td>923923</td>\n",
       "      <td>944575</td>\n",
       "      <td>SAMD11</td>\n",
       "    </tr>\n",
       "    <tr>\n",
       "      <th>1</th>\n",
       "      <td>chr1</td>\n",
       "      <td>944203</td>\n",
       "      <td>959309</td>\n",
       "      <td>NOC2L</td>\n",
       "    </tr>\n",
       "    <tr>\n",
       "      <th>2</th>\n",
       "      <td>chr1</td>\n",
       "      <td>960584</td>\n",
       "      <td>965719</td>\n",
       "      <td>KLHL17</td>\n",
       "    </tr>\n",
       "    <tr>\n",
       "      <th>3</th>\n",
       "      <td>chr1</td>\n",
       "      <td>966482</td>\n",
       "      <td>975865</td>\n",
       "      <td>PLEKHN1</td>\n",
       "    </tr>\n",
       "    <tr>\n",
       "      <th>4</th>\n",
       "      <td>chr1</td>\n",
       "      <td>975198</td>\n",
       "      <td>982117</td>\n",
       "      <td>PERM1</td>\n",
       "    </tr>\n",
       "  </tbody>\n",
       "</table>\n",
       "</div>"
      ],
      "text/plain": [
       "  seqname   start     end gene_name\n",
       "0    chr1  923923  944575    SAMD11\n",
       "1    chr1  944203  959309     NOC2L\n",
       "2    chr1  960584  965719    KLHL17\n",
       "3    chr1  966482  975865   PLEKHN1\n",
       "4    chr1  975198  982117     PERM1"
      ]
     },
     "execution_count": 7,
     "metadata": {},
     "output_type": "execute_result"
    }
   ],
   "source": [
    "# read in gene location information\n",
    "gloc = pd.read_csv(\"../data/gene_locations.tsv\",sep=\"\\t\")\n",
    "gloc.head()"
   ]
  },
  {
   "cell_type": "code",
   "execution_count": 8,
   "id": "e58d9aa0",
   "metadata": {},
   "outputs": [
    {
     "data": {
      "text/plain": [
       "AnnData object with n_obs × n_vars = 737280 × 69690\n",
       "    var: 'feature_types', 'gene_symbols', 'gene_names'\n",
       "    uns: 'annotation', 'biosample_accession', 'derived_from', 'description', 'experiment_accession', 'filtered_barcodes', 'genome'"
      ]
     },
     "execution_count": 8,
     "metadata": {},
     "output_type": "execute_result"
    }
   ],
   "source": [
    "adata1 = sc.read_h5ad(\"../data/ENCFF138QCP.h5ad\")\n",
    "adata1"
   ]
  },
  {
   "cell_type": "code",
   "execution_count": 1,
   "id": "abe3ff92",
   "metadata": {},
   "outputs": [],
   "source": [
    "#adata1.obs"
   ]
  },
  {
   "cell_type": "code",
   "execution_count": 5,
   "id": "60e5b6d3",
   "metadata": {},
   "outputs": [
    {
     "data": {
      "text/plain": [
       "737280"
      ]
     },
     "execution_count": 5,
     "metadata": {},
     "output_type": "execute_result"
    }
   ],
   "source": [
    "len(set(adata1.obs.index))"
   ]
  },
  {
   "cell_type": "code",
   "execution_count": 6,
   "id": "3a310f99",
   "metadata": {},
   "outputs": [
    {
     "data": {
      "text/html": [
       "<div>\n",
       "<style scoped>\n",
       "    .dataframe tbody tr th:only-of-type {\n",
       "        vertical-align: middle;\n",
       "    }\n",
       "\n",
       "    .dataframe tbody tr th {\n",
       "        vertical-align: top;\n",
       "    }\n",
       "\n",
       "    .dataframe thead th {\n",
       "        text-align: right;\n",
       "    }\n",
       "</style>\n",
       "<table border=\"1\" class=\"dataframe\">\n",
       "  <thead>\n",
       "    <tr style=\"text-align: right;\">\n",
       "      <th></th>\n",
       "      <th>feature_types</th>\n",
       "      <th>gene_symbols</th>\n",
       "      <th>gene_names</th>\n",
       "    </tr>\n",
       "  </thead>\n",
       "  <tbody>\n",
       "    <tr>\n",
       "      <th>ENSMUSG00000102693.1</th>\n",
       "      <td>Gene Expression</td>\n",
       "      <td>RP23-271O17.1</td>\n",
       "      <td>RP23-271O17.1</td>\n",
       "    </tr>\n",
       "    <tr>\n",
       "      <th>ENSMUSG00000064842.1</th>\n",
       "      <td>Gene Expression</td>\n",
       "      <td>Gm26206</td>\n",
       "      <td>Gm26206</td>\n",
       "    </tr>\n",
       "    <tr>\n",
       "      <th>ENSMUSG00000051951.5</th>\n",
       "      <td>Gene Expression</td>\n",
       "      <td>Xkr4</td>\n",
       "      <td>Xkr4</td>\n",
       "    </tr>\n",
       "    <tr>\n",
       "      <th>ENSMUSG00000102851.1</th>\n",
       "      <td>Gene Expression</td>\n",
       "      <td>RP23-317L18.1</td>\n",
       "      <td>RP23-317L18.1</td>\n",
       "    </tr>\n",
       "    <tr>\n",
       "      <th>ENSMUSG00000103377.1</th>\n",
       "      <td>Gene Expression</td>\n",
       "      <td>RP23-317L18.4</td>\n",
       "      <td>RP23-317L18.4</td>\n",
       "    </tr>\n",
       "    <tr>\n",
       "      <th>...</th>\n",
       "      <td>...</td>\n",
       "      <td>...</td>\n",
       "      <td>...</td>\n",
       "    </tr>\n",
       "    <tr>\n",
       "      <th>gSpikein_ERCC-00164</th>\n",
       "      <td>Gene Expression</td>\n",
       "      <td>gSpikein_ERCC-00164</td>\n",
       "      <td>gSpikein_ERCC-00164</td>\n",
       "    </tr>\n",
       "    <tr>\n",
       "      <th>gSpikein_ERCC-00165</th>\n",
       "      <td>Gene Expression</td>\n",
       "      <td>gSpikein_ERCC-00165</td>\n",
       "      <td>gSpikein_ERCC-00165</td>\n",
       "    </tr>\n",
       "    <tr>\n",
       "      <th>gSpikein_ERCC-00168</th>\n",
       "      <td>Gene Expression</td>\n",
       "      <td>gSpikein_ERCC-00168</td>\n",
       "      <td>gSpikein_ERCC-00168</td>\n",
       "    </tr>\n",
       "    <tr>\n",
       "      <th>gSpikein_ERCC-00170</th>\n",
       "      <td>Gene Expression</td>\n",
       "      <td>gSpikein_ERCC-00170</td>\n",
       "      <td>gSpikein_ERCC-00170</td>\n",
       "    </tr>\n",
       "    <tr>\n",
       "      <th>gSpikein_ERCC-00171</th>\n",
       "      <td>Gene Expression</td>\n",
       "      <td>gSpikein_ERCC-00171</td>\n",
       "      <td>gSpikein_ERCC-00171</td>\n",
       "    </tr>\n",
       "  </tbody>\n",
       "</table>\n",
       "<p>69690 rows × 3 columns</p>\n",
       "</div>"
      ],
      "text/plain": [
       "                        feature_types         gene_symbols  \\\n",
       "ENSMUSG00000102693.1  Gene Expression        RP23-271O17.1   \n",
       "ENSMUSG00000064842.1  Gene Expression              Gm26206   \n",
       "ENSMUSG00000051951.5  Gene Expression                 Xkr4   \n",
       "ENSMUSG00000102851.1  Gene Expression        RP23-317L18.1   \n",
       "ENSMUSG00000103377.1  Gene Expression        RP23-317L18.4   \n",
       "...                               ...                  ...   \n",
       "gSpikein_ERCC-00164   Gene Expression  gSpikein_ERCC-00164   \n",
       "gSpikein_ERCC-00165   Gene Expression  gSpikein_ERCC-00165   \n",
       "gSpikein_ERCC-00168   Gene Expression  gSpikein_ERCC-00168   \n",
       "gSpikein_ERCC-00170   Gene Expression  gSpikein_ERCC-00170   \n",
       "gSpikein_ERCC-00171   Gene Expression  gSpikein_ERCC-00171   \n",
       "\n",
       "                               gene_names  \n",
       "ENSMUSG00000102693.1        RP23-271O17.1  \n",
       "ENSMUSG00000064842.1              Gm26206  \n",
       "ENSMUSG00000051951.5                 Xkr4  \n",
       "ENSMUSG00000102851.1        RP23-317L18.1  \n",
       "ENSMUSG00000103377.1        RP23-317L18.4  \n",
       "...                                   ...  \n",
       "gSpikein_ERCC-00164   gSpikein_ERCC-00164  \n",
       "gSpikein_ERCC-00165   gSpikein_ERCC-00165  \n",
       "gSpikein_ERCC-00168   gSpikein_ERCC-00168  \n",
       "gSpikein_ERCC-00170   gSpikein_ERCC-00170  \n",
       "gSpikein_ERCC-00171   gSpikein_ERCC-00171  \n",
       "\n",
       "[69690 rows x 3 columns]"
      ]
     },
     "execution_count": 6,
     "metadata": {},
     "output_type": "execute_result"
    }
   ],
   "source": [
    "adata1.var"
   ]
  },
  {
   "cell_type": "code",
   "execution_count": 17,
   "id": "cb493503",
   "metadata": {},
   "outputs": [
    {
     "data": {
      "text/plain": [
       "Int64Index([   0,    1,    2,    3,    4,    5,    6,    7,    8,    9,\n",
       "            ...\n",
       "            1628, 1629, 1630, 1631, 1632, 1633, 1634, 1635, 1636, 1637],\n",
       "           dtype='int64', length=1638)"
      ]
     },
     "execution_count": 17,
     "metadata": {},
     "output_type": "execute_result"
    }
   ],
   "source": [
    "c1_genes = gloc[gloc[\"seqname\"]==\"chr1\"]\n",
    "c1_genes.index # ideally index would be e.g. ENSMUSG00000..."
   ]
  },
  {
   "cell_type": "code",
   "execution_count": 52,
   "id": "84d681d5",
   "metadata": {},
   "outputs": [
    {
     "data": {
      "text/plain": [
       "69690"
      ]
     },
     "execution_count": 52,
     "metadata": {},
     "output_type": "execute_result"
    }
   ],
   "source": [
    "len(adata1.var)"
   ]
  },
  {
   "cell_type": "code",
   "execution_count": 37,
   "id": "302d2eb3",
   "metadata": {},
   "outputs": [],
   "source": [
    "#print(adata1.X)"
   ]
  },
  {
   "cell_type": "code",
   "execution_count": 34,
   "id": "f9cb743a",
   "metadata": {},
   "outputs": [],
   "source": [
    "#print(adata1.X[737278:]) # tuple is (obs-sequence, gene_num), number is I am guessing maybe some measure of expression level??\n",
    "\n",
    "# I shall assume this is number of cells"
   ]
  },
  {
   "cell_type": "code",
   "execution_count": 35,
   "id": "a4c58afc",
   "metadata": {},
   "outputs": [],
   "source": [
    "#print(np.argwhere(adata1.X[:10].todense()!=0)) # extract tuples (obs-seq, gene_idx)"
   ]
  },
  {
   "cell_type": "code",
   "execution_count": 36,
   "id": "972d7809",
   "metadata": {},
   "outputs": [],
   "source": [
    "#print(np.sum(adata1.X[:10].toarray(),axis=0)) # list of 69690. \n",
    "# At the position corresponding to gene_idx, it will have some value we need."
   ]
  },
  {
   "cell_type": "code",
   "execution_count": 51,
   "id": "3b360b81",
   "metadata": {},
   "outputs": [],
   "source": [
    "#print(np.sum(adata1.X[31:38].toarray(),axis=1)) # for counts of each observed sequence # we don't really need this?\n",
    "# running this kills kernel. DO NOT RUN."
   ]
  },
  {
   "cell_type": "code",
   "execution_count": 49,
   "id": "ee5254c8",
   "metadata": {},
   "outputs": [],
   "source": [
    "#print(np.argwhere(adata1.X[31].toarray()!=0))"
   ]
  },
  {
   "cell_type": "code",
   "execution_count": 50,
   "id": "68426464",
   "metadata": {},
   "outputs": [],
   "source": [
    "#print(np.argwhere(np.sum(adata1.X[31].toarray(),axis=0)!=0))"
   ]
  },
  {
   "cell_type": "code",
   "execution_count": 18,
   "id": "ecc0eb9a",
   "metadata": {},
   "outputs": [],
   "source": [
    "x = adata1.X.toarray() # 737280 arrays of length 69690"
   ]
  },
  {
   "cell_type": "code",
   "execution_count": null,
   "id": "ec20fe15",
   "metadata": {},
   "outputs": [],
   "source": [
    "# get info for chromosome 1 only.\n",
    "x1 = x[:,c1_genes.index]"
   ]
  },
  {
   "cell_type": "code",
   "execution_count": null,
   "id": "20ad1c9c",
   "metadata": {},
   "outputs": [],
   "source": [
    "sns.heatmap(x1)"
   ]
  },
  {
   "cell_type": "code",
   "execution_count": 39,
   "id": "1ca916fa",
   "metadata": {},
   "outputs": [
    {
     "data": {
      "text/plain": [
       "array([[    0,    31],\n",
       "       [    0,    35],\n",
       "       [    0,    43],\n",
       "       ...,\n",
       "       [    0, 43336],\n",
       "       [    0, 43340],\n",
       "       [    0, 43343]])"
      ]
     },
     "execution_count": 39,
     "metadata": {},
     "output_type": "execute_result"
    }
   ],
   "source": [
    "np.argwhere(adata1.X[737278].toarray()!=0)"
   ]
  },
  {
   "cell_type": "code",
   "execution_count": 45,
   "id": "da4939eb",
   "metadata": {},
   "outputs": [
    {
     "data": {
      "text/plain": [
       "2892"
      ]
     },
     "execution_count": 45,
     "metadata": {},
     "output_type": "execute_result"
    }
   ],
   "source": [
    "len(np.argwhere(adata1.X[737278].toarray()!=0))"
   ]
  },
  {
   "cell_type": "code",
   "execution_count": 47,
   "id": "8b6726a9",
   "metadata": {},
   "outputs": [
    {
     "data": {
      "text/plain": [
       "12.0"
      ]
     },
     "execution_count": 47,
     "metadata": {},
     "output_type": "execute_result"
    }
   ],
   "source": [
    "x[np.argwhere(adata1.X[737278].toarray()!=0)[2889][0],np.argwhere(adata1.X[737278].toarray()!=0)[2889][1]]"
   ]
  },
  {
   "cell_type": "code",
   "execution_count": 33,
   "id": "107dde11",
   "metadata": {},
   "outputs": [
    {
     "data": {
      "text/plain": [
       "12.0"
      ]
     },
     "execution_count": 33,
     "metadata": {},
     "output_type": "execute_result"
    }
   ],
   "source": [
    "x = adata1.X[737278].toarray()\n",
    "x[0,43336]"
   ]
  },
  {
   "cell_type": "code",
   "execution_count": 64,
   "id": "2181d37d",
   "metadata": {},
   "outputs": [
    {
     "data": {
      "text/html": [
       "<div>\n",
       "<style scoped>\n",
       "    .dataframe tbody tr th:only-of-type {\n",
       "        vertical-align: middle;\n",
       "    }\n",
       "\n",
       "    .dataframe tbody tr th {\n",
       "        vertical-align: top;\n",
       "    }\n",
       "\n",
       "    .dataframe thead th {\n",
       "        text-align: right;\n",
       "    }\n",
       "</style>\n",
       "<table border=\"1\" class=\"dataframe\">\n",
       "  <thead>\n",
       "    <tr style=\"text-align: right;\">\n",
       "      <th></th>\n",
       "      <th>feature_types</th>\n",
       "      <th>gene_symbols</th>\n",
       "      <th>gene_names</th>\n",
       "      <th>counts</th>\n",
       "    </tr>\n",
       "  </thead>\n",
       "  <tbody>\n",
       "    <tr>\n",
       "      <th>ENSMUSG00000102693.1</th>\n",
       "      <td>Gene Expression</td>\n",
       "      <td>RP23-271O17.1</td>\n",
       "      <td>RP23-271O17.1</td>\n",
       "      <td>0</td>\n",
       "    </tr>\n",
       "    <tr>\n",
       "      <th>ENSMUSG00000064842.1</th>\n",
       "      <td>Gene Expression</td>\n",
       "      <td>Gm26206</td>\n",
       "      <td>GM26206</td>\n",
       "      <td>0</td>\n",
       "    </tr>\n",
       "    <tr>\n",
       "      <th>ENSMUSG00000051951.5</th>\n",
       "      <td>Gene Expression</td>\n",
       "      <td>Xkr4</td>\n",
       "      <td>XKR4</td>\n",
       "      <td>0</td>\n",
       "    </tr>\n",
       "    <tr>\n",
       "      <th>ENSMUSG00000102851.1</th>\n",
       "      <td>Gene Expression</td>\n",
       "      <td>RP23-317L18.1</td>\n",
       "      <td>RP23-317L18.1</td>\n",
       "      <td>0</td>\n",
       "    </tr>\n",
       "    <tr>\n",
       "      <th>ENSMUSG00000103377.1</th>\n",
       "      <td>Gene Expression</td>\n",
       "      <td>RP23-317L18.4</td>\n",
       "      <td>RP23-317L18.4</td>\n",
       "      <td>0</td>\n",
       "    </tr>\n",
       "  </tbody>\n",
       "</table>\n",
       "</div>"
      ],
      "text/plain": [
       "                        feature_types   gene_symbols     gene_names  counts\n",
       "ENSMUSG00000102693.1  Gene Expression  RP23-271O17.1  RP23-271O17.1       0\n",
       "ENSMUSG00000064842.1  Gene Expression        Gm26206        GM26206       0\n",
       "ENSMUSG00000051951.5  Gene Expression           Xkr4           XKR4       0\n",
       "ENSMUSG00000102851.1  Gene Expression  RP23-317L18.1  RP23-317L18.1       0\n",
       "ENSMUSG00000103377.1  Gene Expression  RP23-317L18.4  RP23-317L18.4       0"
      ]
     },
     "execution_count": 64,
     "metadata": {},
     "output_type": "execute_result"
    }
   ],
   "source": [
    "df = adata1.var\n",
    "df['gene_names'] = [g.upper() for g in df['gene_names']]\n",
    "df['counts'] = [0]*len(df) # will update later\n",
    "df.head()"
   ]
  },
  {
   "cell_type": "code",
   "execution_count": 56,
   "id": "867b1190",
   "metadata": {},
   "outputs": [],
   "source": [
    "idx_to_count = dict(zip(range(len(adata1.var)), [0]*len(adata1.var)))"
   ]
  },
  {
   "cell_type": "code",
   "execution_count": 68,
   "id": "a7ceb5bf",
   "metadata": {},
   "outputs": [],
   "source": [
    "# using np for the 3d matrix kills kernel, so I must resort to this\n",
    "for i in range(len(set(adata1.obs.index))): # \n",
    "    info = adata1.X[i].toarray()\n",
    "    tuples = np.argwhere(info!=0)\n",
    "    for tup in tuples:\n",
    "        idx_to_count[tup[1]] += info[tup[0],tup[1]]"
   ]
  },
  {
   "cell_type": "code",
   "execution_count": 83,
   "id": "ee9d7ef4",
   "metadata": {},
   "outputs": [
    {
     "name": "stdout",
     "output_type": "stream",
     "text": [
      "Progress: Completed iteration:  0\n",
      "Progress: Completed iteration:  100000\n",
      "Progress: Completed iteration:  200000\n",
      "Progress: Completed iteration:  300000\n",
      "Progress: Completed iteration:  400000\n",
      "Progress: Completed iteration:  500000\n",
      "Progress: Completed iteration:  600000\n",
      "Progress: Completed iteration:  700000\n"
     ]
    }
   ],
   "source": [
    "count_list = np.zeros(len(adata1.var))\n",
    "#n_cells = np.zeros(len(adata1.var))\n",
    "for i in range(len(set(adata1.obs.index))): # \n",
    "    if i % 100000 == 0:\n",
    "        print(\"Progress: Completed iteration: \", i)\n",
    "    info = adata1.X[i].toarray()\n",
    "    tuples = np.argwhere(info!=0)\n",
    "    for tup in tuples:\n",
    "        count_list[tup[1]] += info[tup[0],tup[1]]\n",
    "        #n_cells[tup[1]] += 1"
   ]
  },
  {
   "cell_type": "code",
   "execution_count": 86,
   "id": "dab04dca",
   "metadata": {},
   "outputs": [],
   "source": [
    "df[\"counts\"] = count_list"
   ]
  },
  {
   "cell_type": "code",
   "execution_count": 95,
   "id": "7ed8ee5f",
   "metadata": {},
   "outputs": [
    {
     "data": {
      "text/html": [
       "<div>\n",
       "<style scoped>\n",
       "    .dataframe tbody tr th:only-of-type {\n",
       "        vertical-align: middle;\n",
       "    }\n",
       "\n",
       "    .dataframe tbody tr th {\n",
       "        vertical-align: top;\n",
       "    }\n",
       "\n",
       "    .dataframe thead th {\n",
       "        text-align: right;\n",
       "    }\n",
       "</style>\n",
       "<table border=\"1\" class=\"dataframe\">\n",
       "  <thead>\n",
       "    <tr style=\"text-align: right;\">\n",
       "      <th></th>\n",
       "      <th>feature_types</th>\n",
       "      <th>gene_symbols</th>\n",
       "      <th>gene_names</th>\n",
       "      <th>counts</th>\n",
       "    </tr>\n",
       "  </thead>\n",
       "  <tbody>\n",
       "    <tr>\n",
       "      <th>ENSMUSG00000102693.1</th>\n",
       "      <td>Gene Expression</td>\n",
       "      <td>RP23-271O17.1</td>\n",
       "      <td>RP23-271O17.1</td>\n",
       "      <td>0.0</td>\n",
       "    </tr>\n",
       "    <tr>\n",
       "      <th>ENSMUSG00000064842.1</th>\n",
       "      <td>Gene Expression</td>\n",
       "      <td>Gm26206</td>\n",
       "      <td>GM26206</td>\n",
       "      <td>0.0</td>\n",
       "    </tr>\n",
       "    <tr>\n",
       "      <th>ENSMUSG00000051951.5</th>\n",
       "      <td>Gene Expression</td>\n",
       "      <td>Xkr4</td>\n",
       "      <td>XKR4</td>\n",
       "      <td>8.0</td>\n",
       "    </tr>\n",
       "    <tr>\n",
       "      <th>ENSMUSG00000102851.1</th>\n",
       "      <td>Gene Expression</td>\n",
       "      <td>RP23-317L18.1</td>\n",
       "      <td>RP23-317L18.1</td>\n",
       "      <td>0.0</td>\n",
       "    </tr>\n",
       "    <tr>\n",
       "      <th>ENSMUSG00000103377.1</th>\n",
       "      <td>Gene Expression</td>\n",
       "      <td>RP23-317L18.4</td>\n",
       "      <td>RP23-317L18.4</td>\n",
       "      <td>22.0</td>\n",
       "    </tr>\n",
       "  </tbody>\n",
       "</table>\n",
       "</div>"
      ],
      "text/plain": [
       "                        feature_types   gene_symbols     gene_names  counts\n",
       "ENSMUSG00000102693.1  Gene Expression  RP23-271O17.1  RP23-271O17.1     0.0\n",
       "ENSMUSG00000064842.1  Gene Expression        Gm26206        GM26206     0.0\n",
       "ENSMUSG00000051951.5  Gene Expression           Xkr4           XKR4     8.0\n",
       "ENSMUSG00000102851.1  Gene Expression  RP23-317L18.1  RP23-317L18.1     0.0\n",
       "ENSMUSG00000103377.1  Gene Expression  RP23-317L18.4  RP23-317L18.4    22.0"
      ]
     },
     "execution_count": 95,
     "metadata": {},
     "output_type": "execute_result"
    }
   ],
   "source": [
    "df.head()"
   ]
  },
  {
   "cell_type": "code",
   "execution_count": 96,
   "id": "efcd7d94",
   "metadata": {},
   "outputs": [
    {
     "data": {
      "text/html": [
       "<div>\n",
       "<style scoped>\n",
       "    .dataframe tbody tr th:only-of-type {\n",
       "        vertical-align: middle;\n",
       "    }\n",
       "\n",
       "    .dataframe tbody tr th {\n",
       "        vertical-align: top;\n",
       "    }\n",
       "\n",
       "    .dataframe thead th {\n",
       "        text-align: right;\n",
       "    }\n",
       "</style>\n",
       "<table border=\"1\" class=\"dataframe\">\n",
       "  <thead>\n",
       "    <tr style=\"text-align: right;\">\n",
       "      <th></th>\n",
       "      <th>feature_types</th>\n",
       "      <th>gene_symbols</th>\n",
       "      <th>gene_names</th>\n",
       "      <th>counts</th>\n",
       "    </tr>\n",
       "  </thead>\n",
       "  <tbody>\n",
       "    <tr>\n",
       "      <th>ENSMUSG00000051951.5</th>\n",
       "      <td>Gene Expression</td>\n",
       "      <td>Xkr4</td>\n",
       "      <td>XKR4</td>\n",
       "      <td>8.0</td>\n",
       "    </tr>\n",
       "    <tr>\n",
       "      <th>ENSMUSG00000103377.1</th>\n",
       "      <td>Gene Expression</td>\n",
       "      <td>RP23-317L18.4</td>\n",
       "      <td>RP23-317L18.4</td>\n",
       "      <td>22.0</td>\n",
       "    </tr>\n",
       "    <tr>\n",
       "      <th>ENSMUSG00000104017.1</th>\n",
       "      <td>Gene Expression</td>\n",
       "      <td>RP23-317L18.3</td>\n",
       "      <td>RP23-317L18.3</td>\n",
       "      <td>20.0</td>\n",
       "    </tr>\n",
       "    <tr>\n",
       "      <th>ENSMUSG00000103025.1</th>\n",
       "      <td>Gene Expression</td>\n",
       "      <td>RP23-115I1.6</td>\n",
       "      <td>RP23-115I1.6</td>\n",
       "      <td>3.0</td>\n",
       "    </tr>\n",
       "    <tr>\n",
       "      <th>ENSMUSG00000089699.1</th>\n",
       "      <td>Gene Expression</td>\n",
       "      <td>Gm1992</td>\n",
       "      <td>GM1992</td>\n",
       "      <td>3.0</td>\n",
       "    </tr>\n",
       "  </tbody>\n",
       "</table>\n",
       "</div>"
      ],
      "text/plain": [
       "                        feature_types   gene_symbols     gene_names  counts\n",
       "ENSMUSG00000051951.5  Gene Expression           Xkr4           XKR4     8.0\n",
       "ENSMUSG00000103377.1  Gene Expression  RP23-317L18.4  RP23-317L18.4    22.0\n",
       "ENSMUSG00000104017.1  Gene Expression  RP23-317L18.3  RP23-317L18.3    20.0\n",
       "ENSMUSG00000103025.1  Gene Expression   RP23-115I1.6   RP23-115I1.6     3.0\n",
       "ENSMUSG00000089699.1  Gene Expression         Gm1992         GM1992     3.0"
      ]
     },
     "execution_count": 96,
     "metadata": {},
     "output_type": "execute_result"
    }
   ],
   "source": [
    "df_trimmed = df[df[\"counts\"]>0]\n",
    "df_trimmed.head()"
   ]
  },
  {
   "cell_type": "code",
   "execution_count": 103,
   "id": "ccc91412",
   "metadata": {},
   "outputs": [
    {
     "data": {
      "image/png": "[encoded data removed]",
      "text/plain": [
       "<Figure size 1080x432 with 2 Axes>"
      ]
     },
     "metadata": {
      "needs_background": "light"
     },
     "output_type": "display_data"
    }
   ],
   "source": [
    "fig, ax = plt.subplots(1,2,sharey=True,sharex=True,figsize=(15,6))\n",
    "plt.subplot(1,2,1)\n",
    "plt.title(\"Before Trimming Genes with no Expression\")\n",
    "plt.hist(np.log(df[\"counts\"]+1))\n",
    "plt.subplot(1,2,2)\n",
    "plt.title(\"After Trimming Genes with no Expression\")\n",
    "plt.hist(np.log(df_trimmed[\"counts\"]+1))\n",
    "plt.show()"
   ]
  }
 ],
 "metadata": {
  "kernelspec": {
   "display_name": "Python 3 (ipykernel)",
   "language": "python",
   "name": "python3"
  },
  "language_info": {
   "codemirror_mode": {
    "name": "ipython",
    "version": 3
   },
   "file_extension": ".py",
   "mimetype": "text/x-python",
   "name": "python",
   "nbconvert_exporter": "python",
   "pygments_lexer": "ipython3",
   "version": "3.9.12"
  }
 },
 "nbformat": 4,
 "nbformat_minor": 5
}
