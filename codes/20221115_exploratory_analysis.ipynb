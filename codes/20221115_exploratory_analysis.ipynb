{
 "cells": [
  {
   "cell_type": "code",
   "execution_count": 1,
   "metadata": {},
   "outputs": [
    {
     "name": "stderr",
     "output_type": "stream",
     "text": [
      "<frozen importlib._bootstrap>:219: RuntimeWarning: scipy._lib.messagestream.MessageStream size changed, may indicate binary incompatibility. Expected 56 from C header, got 64 from PyObject\n"
     ]
    }
   ],
   "source": [
    "import matplotlib.pyplot as plt\n",
    "import pandas as pd\n",
    "import numpy as np\n",
    "import os\n",
    "import re\n",
    "import scanpy as sc\n",
    "import umap\n",
    "import anndata\n",
    "import tables\n",
    "from tqdm import tqdm\n",
    "import scipy.sparse as sp\n",
    "import seaborn as sns\n",
    "from matplotlib import cm, colors\n",
    "from matplotlib.pyplot import rc_context\n",
    "import sklearn"
   ]
  },
  {
   "cell_type": "code",
   "execution_count": 5,
   "metadata": {},
   "outputs": [
    {
     "name": "stdout",
     "output_type": "stream",
     "text": [
      "e18_mouse_brain_fresh_5k_filtered_feature_bc_matrix.h5\n"
     ]
    }
   ],
   "source": [
    "!ls ../data"
   ]
  },
  {
   "cell_type": "code",
   "execution_count": 13,
   "metadata": {},
   "outputs": [
    {
     "name": "stderr",
     "output_type": "stream",
     "text": [
      "Variable names are not unique. To make them unique, call `.var_names_make_unique`.\n",
      "Variable names are not unique. To make them unique, call `.var_names_make_unique`.\n"
     ]
    },
    {
     "data": {
      "text/plain": [
       "<4878x32285 sparse matrix of type '<class 'numpy.float32'>'\n",
       "\twith 15585193 stored elements in Compressed Sparse Row format>"
      ]
     },
     "execution_count": 13,
     "metadata": {},
     "output_type": "execute_result"
    }
   ],
   "source": [
    "adata1 = sc.read_10x_h5(\n",
    "    '../data/e18_mouse_brain_fresh_5k_filtered_feature_bc_matrix.h5'\n",
    ")\n",
    "\n",
    "# adata1 = adata1.var_names_make_unique()\n",
    "adata1.var[\"gene_ids\"]\n"
   ]
  }
 ],
 "metadata": {
  "kernelspec": {
   "display_name": "snRNA_analysis",
   "language": "python",
   "name": "python3"
  },
  "language_info": {
   "codemirror_mode": {
    "name": "ipython",
    "version": 3
   },
   "file_extension": ".py",
   "mimetype": "text/x-python",
   "name": "python",
   "nbconvert_exporter": "python",
   "pygments_lexer": "ipython3",
   "version": "3.8.12"
  },
  "orig_nbformat": 4,
  "vscode": {
   "interpreter": {
    "hash": "c2a652746a0f9433e46f2bf3aac85bb65a152cea1b34b700a760724b58c35662"
   }
  }
 },
 "nbformat": 4,
 "nbformat_minor": 2
}
