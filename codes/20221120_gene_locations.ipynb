{
 "cells": [
  {
   "cell_type": "code",
   "execution_count": 5,
   "metadata": {},
   "outputs": [],
   "source": [
    "import matplotlib.pyplot as plt\n",
    "import pandas as pd\n",
    "import numpy as np\n",
    "import os\n",
    "import re\n",
    "import scanpy as sc\n",
    "import umap\n",
    "import anndata\n",
    "# import tables\n",
    "import scipy.sparse as sp\n",
    "import seaborn as sns\n",
    "from matplotlib import cm, colors\n",
    "from matplotlib.pyplot import rc_context\n",
    "import sklearn"
   ]
  },
  {
   "cell_type": "code",
   "execution_count": 2,
   "metadata": {},
   "outputs": [
    {
     "name": "stdout",
     "output_type": "stream",
     "text": [
      "e18_mouse_brain_fresh_5k_filtered_feature_bc_matrix.h5\n"
     ]
    }
   ],
   "source": [
    "!ls ../data"
   ]
  },
  {
   "cell_type": "code",
   "execution_count": 38,
   "metadata": {},
   "outputs": [
    {
     "data": {
      "text/plain": [
       "69690"
      ]
     },
     "execution_count": 38,
     "metadata": {},
     "output_type": "execute_result"
    }
   ],
   "source": [
    "adata1 = sc.read_h5ad(\n",
    "    '/Users/ninaxiong/Downloads/ENCFF138QCP.h5ad'\n",
    ")\n",
    "\n",
    "# adata1 = adata1.var_names_make_unique()\n",
    "genes = [gene.upper() for gene in list(adata1.var[\"gene_symbols\"])]\n",
    "len(genes)"
   ]
  },
  {
   "cell_type": "code",
   "execution_count": 14,
   "metadata": {},
   "outputs": [
    {
     "data": {
      "text/html": [
       "<div>\n",
       "<style scoped>\n",
       "    .dataframe tbody tr th:only-of-type {\n",
       "        vertical-align: middle;\n",
       "    }\n",
       "\n",
       "    .dataframe tbody tr th {\n",
       "        vertical-align: top;\n",
       "    }\n",
       "\n",
       "    .dataframe thead th {\n",
       "        text-align: right;\n",
       "    }\n",
       "</style>\n",
       "<table border=\"1\" class=\"dataframe\">\n",
       "  <thead>\n",
       "    <tr style=\"text-align: right;\">\n",
       "      <th></th>\n",
       "      <th>seqname</th>\n",
       "      <th>source</th>\n",
       "      <th>feature</th>\n",
       "      <th>start</th>\n",
       "      <th>end</th>\n",
       "      <th>score</th>\n",
       "      <th>strand</th>\n",
       "      <th>frame</th>\n",
       "      <th>attribute</th>\n",
       "    </tr>\n",
       "  </thead>\n",
       "  <tbody>\n",
       "    <tr>\n",
       "      <th>0</th>\n",
       "      <td>chr1</td>\n",
       "      <td>HAVANA</td>\n",
       "      <td>gene</td>\n",
       "      <td>11869</td>\n",
       "      <td>14409</td>\n",
       "      <td>.</td>\n",
       "      <td>+</td>\n",
       "      <td>.</td>\n",
       "      <td>ID=ENSG00000290825.1;gene_id=ENSG00000290825.1...</td>\n",
       "    </tr>\n",
       "    <tr>\n",
       "      <th>1</th>\n",
       "      <td>chr1</td>\n",
       "      <td>HAVANA</td>\n",
       "      <td>transcript</td>\n",
       "      <td>11869</td>\n",
       "      <td>14409</td>\n",
       "      <td>.</td>\n",
       "      <td>+</td>\n",
       "      <td>.</td>\n",
       "      <td>ID=ENST00000456328.2;Parent=ENSG00000290825.1;...</td>\n",
       "    </tr>\n",
       "    <tr>\n",
       "      <th>2</th>\n",
       "      <td>chr1</td>\n",
       "      <td>HAVANA</td>\n",
       "      <td>exon</td>\n",
       "      <td>11869</td>\n",
       "      <td>12227</td>\n",
       "      <td>.</td>\n",
       "      <td>+</td>\n",
       "      <td>.</td>\n",
       "      <td>ID=exon:ENST00000456328.2:1;Parent=ENST0000045...</td>\n",
       "    </tr>\n",
       "    <tr>\n",
       "      <th>3</th>\n",
       "      <td>chr1</td>\n",
       "      <td>HAVANA</td>\n",
       "      <td>exon</td>\n",
       "      <td>12613</td>\n",
       "      <td>12721</td>\n",
       "      <td>.</td>\n",
       "      <td>+</td>\n",
       "      <td>.</td>\n",
       "      <td>ID=exon:ENST00000456328.2:2;Parent=ENST0000045...</td>\n",
       "    </tr>\n",
       "    <tr>\n",
       "      <th>4</th>\n",
       "      <td>chr1</td>\n",
       "      <td>HAVANA</td>\n",
       "      <td>exon</td>\n",
       "      <td>13221</td>\n",
       "      <td>14409</td>\n",
       "      <td>.</td>\n",
       "      <td>+</td>\n",
       "      <td>.</td>\n",
       "      <td>ID=exon:ENST00000456328.2:3;Parent=ENST0000045...</td>\n",
       "    </tr>\n",
       "  </tbody>\n",
       "</table>\n",
       "</div>"
      ],
      "text/plain": [
       "  seqname  source     feature  start    end score strand frame  \\\n",
       "0    chr1  HAVANA        gene  11869  14409     .      +     .   \n",
       "1    chr1  HAVANA  transcript  11869  14409     .      +     .   \n",
       "2    chr1  HAVANA        exon  11869  12227     .      +     .   \n",
       "3    chr1  HAVANA        exon  12613  12721     .      +     .   \n",
       "4    chr1  HAVANA        exon  13221  14409     .      +     .   \n",
       "\n",
       "                                           attribute  \n",
       "0  ID=ENSG00000290825.1;gene_id=ENSG00000290825.1...  \n",
       "1  ID=ENST00000456328.2;Parent=ENSG00000290825.1;...  \n",
       "2  ID=exon:ENST00000456328.2:1;Parent=ENST0000045...  \n",
       "3  ID=exon:ENST00000456328.2:2;Parent=ENST0000045...  \n",
       "4  ID=exon:ENST00000456328.2:3;Parent=ENST0000045...  "
      ]
     },
     "execution_count": 14,
     "metadata": {},
     "output_type": "execute_result"
    }
   ],
   "source": [
    "gencode = pd.read_table(\"/Users/ninaxiong/Downloads/gencode.v42.annotation.gff3\", comment=\"#\",\n",
    "                        sep = \"\\t\", names = ['seqname', 'source', 'feature', 'start' , 'end', 'score', 'strand', 'frame', 'attribute'])\n",
    "gencode.head()"
   ]
  },
  {
   "cell_type": "code",
   "execution_count": 15,
   "metadata": {},
   "outputs": [
    {
     "name": "stdout",
     "output_type": "stream",
     "text": [
      "<class 'pandas.core.frame.DataFrame'>\n",
      "RangeIndex: 3411685 entries, 0 to 3411684\n",
      "Data columns (total 9 columns):\n",
      " #   Column     Dtype \n",
      "---  ------     ----- \n",
      " 0   seqname    object\n",
      " 1   source     object\n",
      " 2   feature    object\n",
      " 3   start      int64 \n",
      " 4   end        int64 \n",
      " 5   score      object\n",
      " 6   strand     object\n",
      " 7   frame      object\n",
      " 8   attribute  object\n",
      "dtypes: int64(2), object(7)\n",
      "memory usage: 234.3+ MB\n"
     ]
    }
   ],
   "source": [
    "gencode.info()"
   ]
  },
  {
   "cell_type": "code",
   "execution_count": 27,
   "metadata": {},
   "outputs": [
    {
     "data": {
      "text/html": [
       "<div>\n",
       "<style scoped>\n",
       "    .dataframe tbody tr th:only-of-type {\n",
       "        vertical-align: middle;\n",
       "    }\n",
       "\n",
       "    .dataframe tbody tr th {\n",
       "        vertical-align: top;\n",
       "    }\n",
       "\n",
       "    .dataframe thead th {\n",
       "        text-align: right;\n",
       "    }\n",
       "</style>\n",
       "<table border=\"1\" class=\"dataframe\">\n",
       "  <thead>\n",
       "    <tr style=\"text-align: right;\">\n",
       "      <th></th>\n",
       "      <th>seqname</th>\n",
       "      <th>start</th>\n",
       "      <th>end</th>\n",
       "      <th>attribute</th>\n",
       "    </tr>\n",
       "  </thead>\n",
       "  <tbody>\n",
       "    <tr>\n",
       "      <th>0</th>\n",
       "      <td>chr1</td>\n",
       "      <td>11869</td>\n",
       "      <td>14409</td>\n",
       "      <td>ID=ENSG00000290825.1;gene_id=ENSG00000290825.1...</td>\n",
       "    </tr>\n",
       "    <tr>\n",
       "      <th>1</th>\n",
       "      <td>chr1</td>\n",
       "      <td>12010</td>\n",
       "      <td>13670</td>\n",
       "      <td>ID=ENSG00000223972.6;gene_id=ENSG00000223972.6...</td>\n",
       "    </tr>\n",
       "    <tr>\n",
       "      <th>2</th>\n",
       "      <td>chr1</td>\n",
       "      <td>14404</td>\n",
       "      <td>29570</td>\n",
       "      <td>ID=ENSG00000227232.5;gene_id=ENSG00000227232.5...</td>\n",
       "    </tr>\n",
       "    <tr>\n",
       "      <th>3</th>\n",
       "      <td>chr1</td>\n",
       "      <td>17369</td>\n",
       "      <td>17436</td>\n",
       "      <td>ID=ENSG00000278267.1;gene_id=ENSG00000278267.1...</td>\n",
       "    </tr>\n",
       "    <tr>\n",
       "      <th>4</th>\n",
       "      <td>chr1</td>\n",
       "      <td>29554</td>\n",
       "      <td>31109</td>\n",
       "      <td>ID=ENSG00000243485.5;gene_id=ENSG00000243485.5...</td>\n",
       "    </tr>\n",
       "  </tbody>\n",
       "</table>\n",
       "</div>"
      ],
      "text/plain": [
       "  seqname  start    end                                          attribute\n",
       "0    chr1  11869  14409  ID=ENSG00000290825.1;gene_id=ENSG00000290825.1...\n",
       "1    chr1  12010  13670  ID=ENSG00000223972.6;gene_id=ENSG00000223972.6...\n",
       "2    chr1  14404  29570  ID=ENSG00000227232.5;gene_id=ENSG00000227232.5...\n",
       "3    chr1  17369  17436  ID=ENSG00000278267.1;gene_id=ENSG00000278267.1...\n",
       "4    chr1  29554  31109  ID=ENSG00000243485.5;gene_id=ENSG00000243485.5..."
      ]
     },
     "execution_count": 27,
     "metadata": {},
     "output_type": "execute_result"
    }
   ],
   "source": [
    "gencode_genes = gencode[(gencode.feature == \"gene\")][['seqname', 'start', 'end', 'attribute']].copy().reset_index().drop('index', axis=1)\n",
    "gencode_genes.head()"
   ]
  },
  {
   "cell_type": "code",
   "execution_count": 28,
   "metadata": {},
   "outputs": [],
   "source": [
    "def gene_info(x):\n",
    "    # Extract gene names\n",
    "    g_name = list(filter(lambda x: 'gene_name' in x,  x.split(\";\")))[0].split(\"=\")[1]\n",
    "    g_type = list(filter(lambda x: 'gene_type' in x,  x.split(\";\")))[0].split(\"=\")[1]\n",
    "    g_leve = int(list(filter(lambda x: 'level' in x,  x.split(\";\")))[0].split(\"=\")[1])\n",
    "    return (g_name, g_type, g_leve)"
   ]
  },
  {
   "cell_type": "code",
   "execution_count": 29,
   "metadata": {},
   "outputs": [
    {
     "data": {
      "text/html": [
       "<div>\n",
       "<style scoped>\n",
       "    .dataframe tbody tr th:only-of-type {\n",
       "        vertical-align: middle;\n",
       "    }\n",
       "\n",
       "    .dataframe tbody tr th {\n",
       "        vertical-align: top;\n",
       "    }\n",
       "\n",
       "    .dataframe thead th {\n",
       "        text-align: right;\n",
       "    }\n",
       "</style>\n",
       "<table border=\"1\" class=\"dataframe\">\n",
       "  <thead>\n",
       "    <tr style=\"text-align: right;\">\n",
       "      <th></th>\n",
       "      <th>seqname</th>\n",
       "      <th>start</th>\n",
       "      <th>end</th>\n",
       "      <th>attribute</th>\n",
       "      <th>gene_name</th>\n",
       "      <th>gene_type</th>\n",
       "      <th>gene_level</th>\n",
       "    </tr>\n",
       "  </thead>\n",
       "  <tbody>\n",
       "    <tr>\n",
       "      <th>0</th>\n",
       "      <td>chr1</td>\n",
       "      <td>11869</td>\n",
       "      <td>14409</td>\n",
       "      <td>ID=ENSG00000290825.1;gene_id=ENSG00000290825.1...</td>\n",
       "      <td>DDX11L2</td>\n",
       "      <td>lncRNA</td>\n",
       "      <td>2</td>\n",
       "    </tr>\n",
       "    <tr>\n",
       "      <th>1</th>\n",
       "      <td>chr1</td>\n",
       "      <td>12010</td>\n",
       "      <td>13670</td>\n",
       "      <td>ID=ENSG00000223972.6;gene_id=ENSG00000223972.6...</td>\n",
       "      <td>DDX11L1</td>\n",
       "      <td>transcribed_unprocessed_pseudogene</td>\n",
       "      <td>2</td>\n",
       "    </tr>\n",
       "    <tr>\n",
       "      <th>2</th>\n",
       "      <td>chr1</td>\n",
       "      <td>14404</td>\n",
       "      <td>29570</td>\n",
       "      <td>ID=ENSG00000227232.5;gene_id=ENSG00000227232.5...</td>\n",
       "      <td>WASH7P</td>\n",
       "      <td>unprocessed_pseudogene</td>\n",
       "      <td>2</td>\n",
       "    </tr>\n",
       "    <tr>\n",
       "      <th>3</th>\n",
       "      <td>chr1</td>\n",
       "      <td>17369</td>\n",
       "      <td>17436</td>\n",
       "      <td>ID=ENSG00000278267.1;gene_id=ENSG00000278267.1...</td>\n",
       "      <td>MIR6859-1</td>\n",
       "      <td>miRNA</td>\n",
       "      <td>3</td>\n",
       "    </tr>\n",
       "    <tr>\n",
       "      <th>4</th>\n",
       "      <td>chr1</td>\n",
       "      <td>29554</td>\n",
       "      <td>31109</td>\n",
       "      <td>ID=ENSG00000243485.5;gene_id=ENSG00000243485.5...</td>\n",
       "      <td>MIR1302-2HG</td>\n",
       "      <td>lncRNA</td>\n",
       "      <td>2</td>\n",
       "    </tr>\n",
       "  </tbody>\n",
       "</table>\n",
       "</div>"
      ],
      "text/plain": [
       "  seqname  start    end                                          attribute  \\\n",
       "0    chr1  11869  14409  ID=ENSG00000290825.1;gene_id=ENSG00000290825.1...   \n",
       "1    chr1  12010  13670  ID=ENSG00000223972.6;gene_id=ENSG00000223972.6...   \n",
       "2    chr1  14404  29570  ID=ENSG00000227232.5;gene_id=ENSG00000227232.5...   \n",
       "3    chr1  17369  17436  ID=ENSG00000278267.1;gene_id=ENSG00000278267.1...   \n",
       "4    chr1  29554  31109  ID=ENSG00000243485.5;gene_id=ENSG00000243485.5...   \n",
       "\n",
       "     gene_name                           gene_type  gene_level  \n",
       "0      DDX11L2                              lncRNA           2  \n",
       "1      DDX11L1  transcribed_unprocessed_pseudogene           2  \n",
       "2       WASH7P              unprocessed_pseudogene           2  \n",
       "3    MIR6859-1                               miRNA           3  \n",
       "4  MIR1302-2HG                              lncRNA           2  "
      ]
     },
     "execution_count": 29,
     "metadata": {},
     "output_type": "execute_result"
    }
   ],
   "source": [
    "gencode_genes[\"gene_name\"], gencode_genes[\"gene_type\"], gencode_genes[\"gene_level\"] = zip(\n",
    "    *gencode_genes.attribute.apply(lambda x: gene_info(x)))\n",
    "gencode_genes.head()"
   ]
  },
  {
   "cell_type": "code",
   "execution_count": 43,
   "metadata": {},
   "outputs": [
    {
     "data": {
      "text/plain": [
       "15889"
      ]
     },
     "execution_count": 43,
     "metadata": {},
     "output_type": "execute_result"
    }
   ],
   "source": [
    "filtered = gencode_genes[gencode_genes[\"gene_name\"].str.upper().isin(genes)]\n",
    "filtered = filtered[[\"seqname\", \"start\", \"end\", \"gene_name\"]]\n",
    "len(filtered)"
   ]
  },
  {
   "cell_type": "code",
   "execution_count": 48,
   "metadata": {},
   "outputs": [],
   "source": [
    "filtered.to_csv(\"../data/gene_locations.tsv\", sep=\"\\t\", index=False)"
   ]
  }
 ],
 "metadata": {
  "interpreter": {
   "hash": "243639d3113cbe381352a32fe5a4e1a317b20dd77d7d45bde22354ae8ddc7d11"
  },
  "kernelspec": {
   "display_name": "Python 3.9.7 ('base')",
   "language": "python",
   "name": "python3"
  },
  "language_info": {
   "codemirror_mode": {
    "name": "ipython",
    "version": 3
   },
   "file_extension": ".py",
   "mimetype": "text/x-python",
   "name": "python",
   "nbconvert_exporter": "python",
   "pygments_lexer": "ipython3",
   "version": "3.10.8"
  },
  "orig_nbformat": 4
 },
 "nbformat": 4,
 "nbformat_minor": 2
}
