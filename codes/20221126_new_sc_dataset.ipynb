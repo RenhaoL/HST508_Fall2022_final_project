{
 "cells": [
  {
   "cell_type": "code",
   "execution_count": 3,
   "metadata": {},
   "outputs": [],
   "source": [
    "from scipy.io import mmread\n",
    "import pandas as pd\n",
    "import numpy as np\n",
    "from scipy.stats import pearsonr\n",
    "import matplotlib.pyplot as plt\n",
    "import seaborn as sns\n",
    "import re"
   ]
  },
  {
   "cell_type": "code",
   "execution_count": 4,
   "metadata": {},
   "outputs": [],
   "source": [
    "path_to_metadata = \"/Users/ninaxiong/Downloads/ExpDesign-E-MTAB-6362.tsv\"\n",
    "path_to_mtx = \"../data/E-MTAB-6362-quantification-filtered-files/E-MTAB-6362.expression_tpm.mtx\"\n",
    "path_to_cols = \"../data/E-MTAB-6362-quantification-filtered-files/E-MTAB-6362.expression_tpm.mtx_cols\"\n",
    "path_to_rows = \"../data/E-MTAB-6362-quantification-filtered-files/E-MTAB-6362.expression_tpm.mtx_rows\""
   ]
  },
  {
   "cell_type": "code",
   "execution_count": 5,
   "metadata": {},
   "outputs": [
    {
     "data": {
      "text/plain": [
       "63"
      ]
     },
     "execution_count": 5,
     "metadata": {},
     "output_type": "execute_result"
    }
   ],
   "source": [
    "metadata = pd.read_csv(path_to_metadata, sep=\"\\t\")\n",
    "filtered = metadata[metadata[\"Sample Characteristic[genotype]\"] == \"wild type genotype\"]\n",
    "wt_samples = list(filtered[\"Assay\"])\n",
    "len(wt_samples)"
   ]
  },
  {
   "cell_type": "code",
   "execution_count": 6,
   "metadata": {},
   "outputs": [
    {
     "data": {
      "text/plain": [
       "(24826, 327)"
      ]
     },
     "execution_count": 6,
     "metadata": {},
     "output_type": "execute_result"
    }
   ],
   "source": [
    "mtx = mmread(path_to_mtx)\n",
    "mtx = mtx.toarray()\n",
    "mtx.shape"
   ]
  },
  {
   "cell_type": "code",
   "execution_count": 7,
   "metadata": {},
   "outputs": [
    {
     "data": {
      "text/plain": [
       "0    SAMEA104470620\n",
       "1    SAMEA104470621\n",
       "2    SAMEA104470622\n",
       "3    SAMEA104470623\n",
       "4    SAMEA104470624\n",
       "Name: 0, dtype: object"
      ]
     },
     "execution_count": 7,
     "metadata": {},
     "output_type": "execute_result"
    }
   ],
   "source": [
    "cols = pd.read_csv(path_to_cols, header=None)[0]\n",
    "cols.head()"
   ]
  },
  {
   "cell_type": "code",
   "execution_count": 8,
   "metadata": {},
   "outputs": [
    {
     "data": {
      "text/plain": [
       "0    ENSMUSG00000000001\n",
       "1    ENSMUSG00000000028\n",
       "2    ENSMUSG00000000037\n",
       "3    ENSMUSG00000000056\n",
       "4    ENSMUSG00000000058\n",
       "Name: 0, dtype: object"
      ]
     },
     "execution_count": 8,
     "metadata": {},
     "output_type": "execute_result"
    }
   ],
   "source": [
    "rows = pd.read_csv(path_to_rows, header=None, sep=\"\\t\")[0]\n",
    "rows.head()"
   ]
  },
  {
   "cell_type": "code",
   "execution_count": 9,
   "metadata": {},
   "outputs": [
    {
     "data": {
      "text/html": [
       "<div>\n",
       "<style scoped>\n",
       "    .dataframe tbody tr th:only-of-type {\n",
       "        vertical-align: middle;\n",
       "    }\n",
       "\n",
       "    .dataframe tbody tr th {\n",
       "        vertical-align: top;\n",
       "    }\n",
       "\n",
       "    .dataframe thead th {\n",
       "        text-align: right;\n",
       "    }\n",
       "</style>\n",
       "<table border=\"1\" class=\"dataframe\">\n",
       "  <thead>\n",
       "    <tr style=\"text-align: right;\">\n",
       "      <th></th>\n",
       "      <th>SAMEA104470928</th>\n",
       "      <th>SAMEA104470919</th>\n",
       "      <th>SAMEA104470925</th>\n",
       "      <th>SAMEA104470893</th>\n",
       "      <th>SAMEA104470910</th>\n",
       "      <th>SAMEA104470942</th>\n",
       "      <th>SAMEA104470914</th>\n",
       "      <th>SAMEA104470927</th>\n",
       "      <th>SAMEA104470918</th>\n",
       "      <th>SAMEA104470899</th>\n",
       "      <th>...</th>\n",
       "      <th>SAMEA104470912</th>\n",
       "      <th>SAMEA104470909</th>\n",
       "      <th>SAMEA104470917</th>\n",
       "      <th>SAMEA104470923</th>\n",
       "      <th>SAMEA104470938</th>\n",
       "      <th>SAMEA104470920</th>\n",
       "      <th>SAMEA104470926</th>\n",
       "      <th>SAMEA104470939</th>\n",
       "      <th>SAMEA104470955</th>\n",
       "      <th>SAMEA104470904</th>\n",
       "    </tr>\n",
       "  </thead>\n",
       "  <tbody>\n",
       "    <tr>\n",
       "      <th>ENSMUSG00000000001</th>\n",
       "      <td>35.043289</td>\n",
       "      <td>14.164700</td>\n",
       "      <td>33.004907</td>\n",
       "      <td>11.756451</td>\n",
       "      <td>0.000000</td>\n",
       "      <td>15.243614</td>\n",
       "      <td>16.576417</td>\n",
       "      <td>19.673177</td>\n",
       "      <td>6.181778</td>\n",
       "      <td>24.444860</td>\n",
       "      <td>...</td>\n",
       "      <td>34.492979</td>\n",
       "      <td>17.826599</td>\n",
       "      <td>5.814934</td>\n",
       "      <td>22.814997</td>\n",
       "      <td>19.229322</td>\n",
       "      <td>23.816354</td>\n",
       "      <td>26.147754</td>\n",
       "      <td>15.384410</td>\n",
       "      <td>19.263033</td>\n",
       "      <td>27.237686</td>\n",
       "    </tr>\n",
       "    <tr>\n",
       "      <th>ENSMUSG00000000028</th>\n",
       "      <td>37.954773</td>\n",
       "      <td>32.130392</td>\n",
       "      <td>35.816060</td>\n",
       "      <td>53.874059</td>\n",
       "      <td>31.815447</td>\n",
       "      <td>13.876921</td>\n",
       "      <td>39.484105</td>\n",
       "      <td>52.842060</td>\n",
       "      <td>40.773227</td>\n",
       "      <td>29.572970</td>\n",
       "      <td>...</td>\n",
       "      <td>17.930434</td>\n",
       "      <td>18.896744</td>\n",
       "      <td>93.797428</td>\n",
       "      <td>30.722752</td>\n",
       "      <td>33.335661</td>\n",
       "      <td>0.000000</td>\n",
       "      <td>23.015541</td>\n",
       "      <td>20.679796</td>\n",
       "      <td>66.251897</td>\n",
       "      <td>59.144044</td>\n",
       "    </tr>\n",
       "    <tr>\n",
       "      <th>ENSMUSG00000000037</th>\n",
       "      <td>0.000000</td>\n",
       "      <td>0.000000</td>\n",
       "      <td>0.000000</td>\n",
       "      <td>0.642032</td>\n",
       "      <td>0.000000</td>\n",
       "      <td>17.078370</td>\n",
       "      <td>3.556361</td>\n",
       "      <td>8.493496</td>\n",
       "      <td>42.760867</td>\n",
       "      <td>0.000000</td>\n",
       "      <td>...</td>\n",
       "      <td>0.000000</td>\n",
       "      <td>1.623135</td>\n",
       "      <td>0.000000</td>\n",
       "      <td>2.209541</td>\n",
       "      <td>4.118330</td>\n",
       "      <td>0.000000</td>\n",
       "      <td>1.544047</td>\n",
       "      <td>5.762653</td>\n",
       "      <td>0.000000</td>\n",
       "      <td>0.000000</td>\n",
       "    </tr>\n",
       "    <tr>\n",
       "      <th>ENSMUSG00000000056</th>\n",
       "      <td>4.757336</td>\n",
       "      <td>0.000000</td>\n",
       "      <td>0.179547</td>\n",
       "      <td>0.931422</td>\n",
       "      <td>0.000000</td>\n",
       "      <td>0.000000</td>\n",
       "      <td>2.149731</td>\n",
       "      <td>0.000000</td>\n",
       "      <td>2.693681</td>\n",
       "      <td>10.651734</td>\n",
       "      <td>...</td>\n",
       "      <td>0.000000</td>\n",
       "      <td>3.932846</td>\n",
       "      <td>0.000000</td>\n",
       "      <td>5.457098</td>\n",
       "      <td>2.083688</td>\n",
       "      <td>4.792990</td>\n",
       "      <td>3.567816</td>\n",
       "      <td>1.862135</td>\n",
       "      <td>13.580021</td>\n",
       "      <td>14.642312</td>\n",
       "    </tr>\n",
       "    <tr>\n",
       "      <th>ENSMUSG00000000058</th>\n",
       "      <td>0.000000</td>\n",
       "      <td>0.000000</td>\n",
       "      <td>0.000000</td>\n",
       "      <td>0.000000</td>\n",
       "      <td>0.000000</td>\n",
       "      <td>0.000000</td>\n",
       "      <td>0.000000</td>\n",
       "      <td>0.000000</td>\n",
       "      <td>0.000000</td>\n",
       "      <td>11.866426</td>\n",
       "      <td>...</td>\n",
       "      <td>1.833748</td>\n",
       "      <td>0.000000</td>\n",
       "      <td>0.000000</td>\n",
       "      <td>0.000000</td>\n",
       "      <td>0.000000</td>\n",
       "      <td>42.957469</td>\n",
       "      <td>0.000000</td>\n",
       "      <td>0.000000</td>\n",
       "      <td>0.000000</td>\n",
       "      <td>0.000000</td>\n",
       "    </tr>\n",
       "  </tbody>\n",
       "</table>\n",
       "<p>5 rows × 60 columns</p>\n",
       "</div>"
      ],
      "text/plain": [
       "0                   SAMEA104470928  SAMEA104470919  SAMEA104470925  \\\n",
       "ENSMUSG00000000001       35.043289       14.164700       33.004907   \n",
       "ENSMUSG00000000028       37.954773       32.130392       35.816060   \n",
       "ENSMUSG00000000037        0.000000        0.000000        0.000000   \n",
       "ENSMUSG00000000056        4.757336        0.000000        0.179547   \n",
       "ENSMUSG00000000058        0.000000        0.000000        0.000000   \n",
       "\n",
       "0                   SAMEA104470893  SAMEA104470910  SAMEA104470942  \\\n",
       "ENSMUSG00000000001       11.756451        0.000000       15.243614   \n",
       "ENSMUSG00000000028       53.874059       31.815447       13.876921   \n",
       "ENSMUSG00000000037        0.642032        0.000000       17.078370   \n",
       "ENSMUSG00000000056        0.931422        0.000000        0.000000   \n",
       "ENSMUSG00000000058        0.000000        0.000000        0.000000   \n",
       "\n",
       "0                   SAMEA104470914  SAMEA104470927  SAMEA104470918  \\\n",
       "ENSMUSG00000000001       16.576417       19.673177        6.181778   \n",
       "ENSMUSG00000000028       39.484105       52.842060       40.773227   \n",
       "ENSMUSG00000000037        3.556361        8.493496       42.760867   \n",
       "ENSMUSG00000000056        2.149731        0.000000        2.693681   \n",
       "ENSMUSG00000000058        0.000000        0.000000        0.000000   \n",
       "\n",
       "0                   SAMEA104470899  ...  SAMEA104470912  SAMEA104470909  \\\n",
       "ENSMUSG00000000001       24.444860  ...       34.492979       17.826599   \n",
       "ENSMUSG00000000028       29.572970  ...       17.930434       18.896744   \n",
       "ENSMUSG00000000037        0.000000  ...        0.000000        1.623135   \n",
       "ENSMUSG00000000056       10.651734  ...        0.000000        3.932846   \n",
       "ENSMUSG00000000058       11.866426  ...        1.833748        0.000000   \n",
       "\n",
       "0                   SAMEA104470917  SAMEA104470923  SAMEA104470938  \\\n",
       "ENSMUSG00000000001        5.814934       22.814997       19.229322   \n",
       "ENSMUSG00000000028       93.797428       30.722752       33.335661   \n",
       "ENSMUSG00000000037        0.000000        2.209541        4.118330   \n",
       "ENSMUSG00000000056        0.000000        5.457098        2.083688   \n",
       "ENSMUSG00000000058        0.000000        0.000000        0.000000   \n",
       "\n",
       "0                   SAMEA104470920  SAMEA104470926  SAMEA104470939  \\\n",
       "ENSMUSG00000000001       23.816354       26.147754       15.384410   \n",
       "ENSMUSG00000000028        0.000000       23.015541       20.679796   \n",
       "ENSMUSG00000000037        0.000000        1.544047        5.762653   \n",
       "ENSMUSG00000000056        4.792990        3.567816        1.862135   \n",
       "ENSMUSG00000000058       42.957469        0.000000        0.000000   \n",
       "\n",
       "0                   SAMEA104470955  SAMEA104470904  \n",
       "ENSMUSG00000000001       19.263033       27.237686  \n",
       "ENSMUSG00000000028       66.251897       59.144044  \n",
       "ENSMUSG00000000037        0.000000        0.000000  \n",
       "ENSMUSG00000000056       13.580021       14.642312  \n",
       "ENSMUSG00000000058        0.000000        0.000000  \n",
       "\n",
       "[5 rows x 60 columns]"
      ]
     },
     "execution_count": 9,
     "metadata": {},
     "output_type": "execute_result"
    }
   ],
   "source": [
    "data = pd.DataFrame(data=mtx, index=rows, columns=cols).rename_axis(None)\n",
    "wt_samples = list(set(cols).intersection(set(wt_samples)))\n",
    "data = data.loc[:,wt_samples]\n",
    "data.head()"
   ]
  },
  {
   "cell_type": "code",
   "execution_count": 10,
   "metadata": {},
   "outputs": [],
   "source": [
    "outfile = \"../data/single_cell_tpm.tsv\"\n",
    "data.to_csv(outfile, sep=\"\\t\")"
   ]
  },
  {
   "cell_type": "code",
   "execution_count": 11,
   "metadata": {},
   "outputs": [],
   "source": [
    "# def plot_corr_heatmap(data, genes):\n",
    "#     subset_genes = list(set(genes).intersection(set(data.index)))\n",
    "#     N = len(subset_genes)\n",
    "#     corr_matrix = np.zeros((N,N))\n",
    "#     for i in range(N):\n",
    "#         gene1 = subset_genes[i]\n",
    "#         for j in range(N):\n",
    "#             gene2 = subset_genes[j]\n",
    "#             corr_matrix[i,j] = pearsonr(data.loc[gene1,:], data.loc[gene2,:]).statistic\n",
    "#     corr_data = pd.DataFrame(data=corr_matrix, index=subset_genes, columns=subset_genes)\n",
    "#     sns.heatmap(corr_data)\n",
    "#     plt.show()"
   ]
  },
  {
   "cell_type": "code",
   "execution_count": 12,
   "metadata": {},
   "outputs": [],
   "source": [
    "# # read in gene location information\n",
    "# gloc = pd.read_csv(\"../data/gene_locations.tsv\",sep=\"\\t\",index_col=0)\n",
    "# ids = []\n",
    "# for gene in gloc.index:\n",
    "#     gene = re.match(\"(.+)\\.\", gene).groups()[0]\n",
    "#     ids.append(gene)\n",
    "# gloc[\"id\"] = ids\n",
    "# gloc.head()"
   ]
  },
  {
   "cell_type": "code",
   "execution_count": 13,
   "metadata": {},
   "outputs": [],
   "source": [
    "# chr19_genes = list(gloc[gloc[\"seqname\"] == \"chr19\"][\"id\"])[:50]\n",
    "# plot_corr_heatmap(data, chr19_genes)"
   ]
  }
 ],
 "metadata": {
  "interpreter": {
   "hash": "c8bf54182aa6832c8d27592096e04ac14dc6a85c67b85dd3427a99871162c1a1"
  },
  "kernelspec": {
   "display_name": "Python 3.10.8 ('HST508_final_project')",
   "language": "python",
   "name": "python3"
  },
  "language_info": {
   "codemirror_mode": {
    "name": "ipython",
    "version": 3
   },
   "file_extension": ".py",
   "mimetype": "text/x-python",
   "name": "python",
   "nbconvert_exporter": "python",
   "pygments_lexer": "ipython3",
   "version": "3.10.8"
  },
  "orig_nbformat": 4
 },
 "nbformat": 4,
 "nbformat_minor": 2
}
